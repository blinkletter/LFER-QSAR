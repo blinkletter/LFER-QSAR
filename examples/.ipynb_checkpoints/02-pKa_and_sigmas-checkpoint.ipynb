{
 "cells": [
  {
   "cell_type": "markdown",
   "id": "650ccc7b",
   "metadata": {},
   "source": [
    "# $pK_a$ and $\\sigma$ Values with Phenol Acids\n",
    "We have seen that acid dissociation equilibrium constants for substituted benzoic acids correlate almost exactly to the Hammett substituent constants. That is because one is used to define the other. \n",
    "\n",
    "Now let us see how the effect of a substituent on benzoic acid (the hammett $\\sigma$ value) correlates to other acid equilibria. We will begin with phenols. \n",
    "\n",
    "To start we will load our tools and data sets. then I will merge and clean the dat as we saw in the previous exercise. Examine the code below and be sure to understand each line."
   ]
  },
  {
   "cell_type": "code",
   "execution_count": 162,
   "id": "8993d6de",
   "metadata": {},
   "outputs": [
    {
     "data": {
      "text/html": [
       "<div>\n",
       "<style scoped>\n",
       "    .dataframe tbody tr th:only-of-type {\n",
       "        vertical-align: middle;\n",
       "    }\n",
       "\n",
       "    .dataframe tbody tr th {\n",
       "        vertical-align: top;\n",
       "    }\n",
       "\n",
       "    .dataframe thead th {\n",
       "        text-align: right;\n",
       "    }\n",
       "</style>\n",
       "<table border=\"1\" class=\"dataframe\">\n",
       "  <thead>\n",
       "    <tr style=\"text-align: right;\">\n",
       "      <th></th>\n",
       "      <th>sigma</th>\n",
       "      <th>s_plus</th>\n",
       "      <th>s_minus</th>\n",
       "      <th>Page</th>\n",
       "      <th>BzOH_pKa</th>\n",
       "      <th>PhOH_pKa</th>\n",
       "      <th>Aniline pKa</th>\n",
       "      <th>DMA_pKa</th>\n",
       "      <th>Pyridine_pKa</th>\n",
       "    </tr>\n",
       "    <tr>\n",
       "      <th>Substituent</th>\n",
       "      <th></th>\n",
       "      <th></th>\n",
       "      <th></th>\n",
       "      <th></th>\n",
       "      <th></th>\n",
       "      <th></th>\n",
       "      <th></th>\n",
       "      <th></th>\n",
       "      <th></th>\n",
       "    </tr>\n",
       "  </thead>\n",
       "  <tbody>\n",
       "    <tr>\n",
       "      <th>m-Br</th>\n",
       "      <td>0.39</td>\n",
       "      <td>0.39</td>\n",
       "      <td>0.39</td>\n",
       "      <td>259.0</td>\n",
       "      <td>3.81</td>\n",
       "      <td>9.11</td>\n",
       "      <td>3.51</td>\n",
       "      <td>3.08</td>\n",
       "      <td>2.84</td>\n",
       "    </tr>\n",
       "    <tr>\n",
       "      <th>p-Br</th>\n",
       "      <td>0.23</td>\n",
       "      <td>0.15</td>\n",
       "      <td>0.25</td>\n",
       "      <td>259.0</td>\n",
       "      <td>4.00</td>\n",
       "      <td>9.34</td>\n",
       "      <td>3.91</td>\n",
       "      <td>3.52</td>\n",
       "      <td>NaN</td>\n",
       "    </tr>\n",
       "    <tr>\n",
       "      <th>m-C6H5</th>\n",
       "      <td>0.06</td>\n",
       "      <td>0.06</td>\n",
       "      <td>0.06</td>\n",
       "      <td>278.0</td>\n",
       "      <td>NaN</td>\n",
       "      <td>9.59</td>\n",
       "      <td>4.18</td>\n",
       "      <td>NaN</td>\n",
       "      <td>NaN</td>\n",
       "    </tr>\n",
       "    <tr>\n",
       "      <th>p-C6H5</th>\n",
       "      <td>-0.01</td>\n",
       "      <td>0.02</td>\n",
       "      <td>-0.18</td>\n",
       "      <td>278.0</td>\n",
       "      <td>NaN</td>\n",
       "      <td>9.51</td>\n",
       "      <td>4.27</td>\n",
       "      <td>NaN</td>\n",
       "      <td>NaN</td>\n",
       "    </tr>\n",
       "    <tr>\n",
       "      <th>m-CCCH3</th>\n",
       "      <td>0.10</td>\n",
       "      <td>0.10</td>\n",
       "      <td>0.10</td>\n",
       "      <td>265.0</td>\n",
       "      <td>NaN</td>\n",
       "      <td>NaN</td>\n",
       "      <td>NaN</td>\n",
       "      <td>NaN</td>\n",
       "      <td>NaN</td>\n",
       "    </tr>\n",
       "  </tbody>\n",
       "</table>\n",
       "</div>"
      ],
      "text/plain": [
       "             sigma  s_plus  s_minus   Page  BzOH_pKa  PhOH_pKa  Aniline pKa  \\\n",
       "Substituent                                                                   \n",
       "m-Br          0.39    0.39     0.39  259.0      3.81      9.11         3.51   \n",
       "p-Br          0.23    0.15     0.25  259.0      4.00      9.34         3.91   \n",
       "m-C6H5        0.06    0.06     0.06  278.0       NaN      9.59         4.18   \n",
       "p-C6H5       -0.01    0.02    -0.18  278.0       NaN      9.51         4.27   \n",
       "m-CCCH3       0.10    0.10     0.10  265.0       NaN       NaN          NaN   \n",
       "\n",
       "             DMA_pKa  Pyridine_pKa  \n",
       "Substituent                         \n",
       "m-Br            3.08          2.84  \n",
       "p-Br            3.52           NaN  \n",
       "m-C6H5           NaN           NaN  \n",
       "p-C6H5           NaN           NaN  \n",
       "m-CCCH3          NaN           NaN  "
      ]
     },
     "metadata": {},
     "output_type": "display_data"
    },
    {
     "data": {
      "text/html": [
       "<div>\n",
       "<style scoped>\n",
       "    .dataframe tbody tr th:only-of-type {\n",
       "        vertical-align: middle;\n",
       "    }\n",
       "\n",
       "    .dataframe tbody tr th {\n",
       "        vertical-align: top;\n",
       "    }\n",
       "\n",
       "    .dataframe thead th {\n",
       "        text-align: right;\n",
       "    }\n",
       "</style>\n",
       "<table border=\"1\" class=\"dataframe\">\n",
       "  <thead>\n",
       "    <tr style=\"text-align: right;\">\n",
       "      <th></th>\n",
       "      <th>sigma</th>\n",
       "      <th>s_plus</th>\n",
       "      <th>s_minus</th>\n",
       "      <th>PhOH_pKa</th>\n",
       "    </tr>\n",
       "    <tr>\n",
       "      <th>Substituent</th>\n",
       "      <th></th>\n",
       "      <th></th>\n",
       "      <th></th>\n",
       "      <th></th>\n",
       "    </tr>\n",
       "  </thead>\n",
       "  <tbody>\n",
       "    <tr>\n",
       "      <th>m-Br</th>\n",
       "      <td>0.39</td>\n",
       "      <td>0.39</td>\n",
       "      <td>0.39</td>\n",
       "      <td>9.11</td>\n",
       "    </tr>\n",
       "    <tr>\n",
       "      <th>p-Br</th>\n",
       "      <td>0.23</td>\n",
       "      <td>0.15</td>\n",
       "      <td>0.25</td>\n",
       "      <td>9.34</td>\n",
       "    </tr>\n",
       "    <tr>\n",
       "      <th>m-C6H5</th>\n",
       "      <td>0.06</td>\n",
       "      <td>0.06</td>\n",
       "      <td>0.06</td>\n",
       "      <td>9.59</td>\n",
       "    </tr>\n",
       "  </tbody>\n",
       "</table>\n",
       "</div>"
      ],
      "text/plain": [
       "             sigma  s_plus  s_minus  PhOH_pKa\n",
       "Substituent                                  \n",
       "m-Br          0.39    0.39     0.39      9.11\n",
       "p-Br          0.23    0.15     0.25      9.34\n",
       "m-C6H5        0.06    0.06     0.06      9.59"
      ]
     },
     "metadata": {},
     "output_type": "display_data"
    }
   ],
   "source": [
    "import numpy as np\n",
    "import pandas as pd\n",
    "import matplotlib.pyplot as plt\n",
    "import scipy.stats as stats\n",
    "\n",
    "def fill_sigma(df):     # a function to fill in sigma for empty spaces in s+ and S-\n",
    "    for z in df.index:\n",
    "        if np.isnan(df[\"s_plus\"][z]):\n",
    "            df[\"s_plus\"][z] = df[\"sigma\"][z]\n",
    "        if np.isnan(df[\"s_minus\"][z]):\n",
    "            df[\"s_minus\"][z] = df[\"sigma\"][z]\n",
    "    return(df)\n",
    "\n",
    "\n",
    "df1 = pd.read_csv(\"../data/LFER_Williams.csv\", \n",
    "                  delimiter = \",\", \n",
    "                  index_col=\"Substituent\", \n",
    "                  comment = \"#\", \n",
    "                  skipinitialspace = True\n",
    "                 ) \n",
    "df2 = pd.read_csv(\"../data/LFER_williams_acidity.csv\", \n",
    "                  delimiter = \",\", \n",
    "                  index_col=\"Substituent\", \n",
    "                  comment = \"#\", \n",
    "                  skipinitialspace = True\n",
    "                 ) \n",
    "df1 = fill_sigma(df1)\n",
    "\n",
    "df3 = df1.join(df2)\n",
    "display(df3.head(5))\n",
    "\n",
    "data = df3[[\"sigma\", \"s_plus\", \"s_minus\", \"PhOH_pKa\"]]\n",
    "data = data.dropna()\n",
    "\n",
    "display(data.head(3))\n",
    "\n"
   ]
  },
  {
   "cell_type": "markdown",
   "id": "14623bd4",
   "metadata": {},
   "source": [
    "## Plot the Data\n",
    "Let us make a quick plot of the $\\log(K_a)$ of phenols vs. the Hammett $\\sigma$ parameter. How does it look?"
   ]
  },
  {
   "cell_type": "code",
   "execution_count": 163,
   "id": "ce32e489",
   "metadata": {},
   "outputs": [
    {
     "data": {
      "image/png": "[encoded data removed]",
      "text/plain": [
       "<Figure size 432x288 with 1 Axes>"
      ]
     },
     "metadata": {
      "needs_background": "light"
     },
     "output_type": "display_data"
    }
   ],
   "source": [
    "x = data[\"sigma\"]\n",
    "y = -data[\"PhOH_pKa\"]\n",
    "\n",
    "plt.plot(x, y, \"ko\")\n",
    "\n",
    "plt.title(\"Hammett Plot of Phenols\")               \n",
    "plt.xlabel(r\"$\\sigma$\")               \n",
    "plt.ylabel(r\"$\\log(K_a)$\")         \n",
    "\n",
    "plt.show()\n",
    "\n"
   ]
  },
  {
   "cell_type": "markdown",
   "id": "8bdfaef6",
   "metadata": {},
   "source": [
    "# Analyze the Data\n",
    "That didn't look so good. If we look through the data we see that the m-substituted phenols seem to fall in a line while the p-substituted phenols scatted above that line. We can visualize this by separating  the two sets. How could we do that? There are many ways,\n",
    "\n",
    "I will try sorting the data by the index entries. All the \"m\"s will end up together."
   ]
  },
  {
   "cell_type": "code",
   "execution_count": 164,
   "id": "3537ede6",
   "metadata": {},
   "outputs": [
    {
     "data": {
      "image/png": "[encoded data removed]",
      "text/plain": [
       "<Figure size 432x288 with 1 Axes>"
      ]
     },
     "metadata": {
      "needs_background": "light"
     },
     "output_type": "display_data"
    }
   ],
   "source": [
    "#data.loc[data.index[0][0]==\"m\"]\n",
    "\n",
    "#data.loc[data[0][0] == \"m\"]\n",
    "#data.iloc[0:4]\n",
    "\n",
    "sort = data.sort_index()\n",
    "meta = sort[0:15]\n",
    "para = sort [15:]\n",
    "\n",
    "x = meta[\"sigma\"]\n",
    "y = -meta[\"PhOH_pKa\"]\n",
    "plt.plot(x, y, \"ko\")\n",
    "\n",
    "x = para[\"sigma\"]\n",
    "y = -para[\"PhOH_pKa\"]\n",
    "plt.plot(x, y, \"kx\")\n",
    "\n",
    "y_list = 2.15*x-9.9\n",
    "plt.plot(x, y_list, \"k-\")\n",
    "\n",
    "plt.title(\"Hammett Plot of Phenols\")               \n",
    "plt.xlabel(r\"$\\sigma$\")               \n",
    "plt.ylabel(r\"$\\log(K_a)$\")         \n",
    "\n",
    "plt.show()"
   ]
  },
  {
   "cell_type": "markdown",
   "id": "5f9cbe60",
   "metadata": {},
   "source": [
    "## Again, with $\\sigma^-$\n",
    "\n"
   ]
  },
  {
   "cell_type": "code",
   "execution_count": 166,
   "id": "92d79971",
   "metadata": {},
   "outputs": [
    {
     "name": "stdout",
     "output_type": "stream",
     "text": [
      "The slope is 1.69 +/- 0.35\n",
      "The intercept is -9.74 +/- 0.18\n"
     ]
    },
    {
     "data": {
      "image/png": "[encoded data removed]",
      "text/plain": [
       "<Figure size 432x288 with 1 Axes>"
      ]
     },
     "metadata": {
      "needs_background": "light"
     },
     "output_type": "display_data"
    }
   ],
   "source": [
    "x = data[\"s_minus\"]\n",
    "y = -data[\"PhOH_pKa\"]\n",
    "\n",
    "plt.plot(x, y, \"ko\")\n",
    "\n",
    "line = stats.linregress(x,y)\n",
    "print(\"The slope is {:.2f} +/- {:.2f}\".format(line.slope, 2*line.stderr))\n",
    "print(\"The intercept is {:.2f} +/- {:.2f}\".format(line.intercept, 2*line.intercept_stderr))\n",
    "\n",
    "y_list = line.slope*x+line.intercept\n",
    "#plt.plot(x, y_list, \"y-\")\n",
    "\n",
    "y_list = 2.15*x-9.9\n",
    "plt.plot(x, y_list, \"k-\")\n",
    "\n",
    "plt.title(\"Hammett Plot of Phenols\")               \n",
    "plt.xlabel(r\"$\\sigma$\")               \n",
    "plt.ylabel(r\"$\\log(K_a)$\")         \n",
    "\n",
    "plt.show()"
   ]
  },
  {
   "cell_type": "code",
   "execution_count": null,
   "id": "30135eaa",
   "metadata": {},
   "outputs": [],
   "source": []
  },
  {
   "cell_type": "code",
   "execution_count": null,
   "id": "cf0b00be",
   "metadata": {},
   "outputs": [],
   "source": []
  }
 ],
 "metadata": {
  "kernelspec": {
   "display_name": "Python 3 (ipykernel)",
   "language": "python",
   "name": "python3"
  },
  "language_info": {
   "codemirror_mode": {
    "name": "ipython",
    "version": 3
   },
   "file_extension": ".py",
   "mimetype": "text/x-python",
   "name": "python",
   "nbconvert_exporter": "python",
   "pygments_lexer": "ipython3",
   "version": "3.9.7"
  }
 },
 "nbformat": 4,
 "nbformat_minor": 5
}
