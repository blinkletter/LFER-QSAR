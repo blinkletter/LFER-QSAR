{
 "cells": [
  {
   "cell_type": "markdown",
   "id": "e2856209",
   "metadata": {},
   "source": [
    "# Merging and Cleaning Data\n",
    "We have data indexed by **substituent group** for LFER data and for experimental data. Before we can analyze how these data sets relate, we will need to pick two and **merge** them.  Then we will need to **clean** them up. Preparing data is a very important part of data science. \n",
    "## Benzoic Acids and $\\sigma$\n",
    "The change in the $pK_a$ of bezoic acid with substitution is the **definition** of the $\\sigma$ value. If we **plot** Hammett $\\sigma$ values agains $pK_a$ values, we should have a **straight line** with a slope of 1.0.  Would this be a good way to **check** our LFER data agianst tabulated pKa values? If there is an **error** in one of the data sets it should **stand out**.\n",
    "## Load the Data\n",
    "We will load the data using the **Pandas** library `read_csv()` function ([documentation](https://pandas.pydata.org/docs/reference/api/pandas.read_csv.html)). Two dataframes ([documentation](https://pandas.pydata.org/docs/reference/api/pandas.DataFrame.html)) will be created: one for the $pK_a$ data table and one for the LFER data. Here we will use the Williams LFER data and the Williams $pK_a$ data (two different Williams b.t.w.)"
   ]
  },
  {
   "cell_type": "code",
   "execution_count": 7,
   "id": "ded3ab25",
   "metadata": {},
   "outputs": [],
   "source": [
    "import numpy as np\n",
    "import pandas as pd\n",
    "import matplotlib.pyplot as plt\n",
    "import scipy.stats as stats\n",
    "\n",
    "def fill_sigma(df):     # a function to fill in sigma for empty spaces in s+ and S-\n",
    "    for z in df.index:\n",
    "        if np.isnan(df[\"s_plus\"][z]):\n",
    "            df[\"s_plus\"][z] = df[\"sigma\"][z]\n",
    "        if np.isnan(df[\"s_minus\"][z]):\n",
    "            df[\"s_minus\"][z] = df[\"sigma\"][z]\n",
    "    return(df)\n",
    "\n",
    "df1 = pd.read_csv(\"../data/LFER_Williams.csv\", \n",
    "                  delimiter = \",\", \n",
    "                  index_col=\"Substituent\", \n",
    "                  comment = \"#\", \n",
    "                  skipinitialspace = True\n",
    "                 ) \n",
    "df2 = pd.read_csv(\"../data/LFER_williams_acidity.csv\", \n",
    "                  delimiter = \",\", \n",
    "                  index_col=\"Substituent\", \n",
    "                  comment = \"#\", \n",
    "                  skipinitialspace = True\n",
    "                 ) \n",
    "df1 = fill_sigma(df1)\n"
   ]
  },
  {
   "cell_type": "markdown",
   "id": "89efc0ac",
   "metadata": {},
   "source": [
    "## Merge The Data Sets\n",
    "We will use the `join()` method that is built into Pandas dataframes. It will **align** the two data sets along the **index values** and then join them \"side-to-side.\" There are many options. You can check the [documentation](https://pandas.pydata.org/docs/reference/api/pandas.DataFrame.join.html) for more information. \n",
    "\n",
    "We will then plot the negative of the $pK_a$ vs. Hammett $\\sigma$. We plot $-pK_a$ on the y-axis because $pK_a=-\\log(K_a)$ and so we are really plotting $\\log(K_a)$ when we plot $-pK_a$. Examine the plot. Do you see any potential problems?"
   ]
  },
  {
   "cell_type": "code",
   "execution_count": 8,
   "id": "23c43359",
   "metadata": {},
   "outputs": [
    {
     "data": {
      "text/html": [
       "<div>\n",
       "<style scoped>\n",
       "    .dataframe tbody tr th:only-of-type {\n",
       "        vertical-align: middle;\n",
       "    }\n",
       "\n",
       "    .dataframe tbody tr th {\n",
       "        vertical-align: top;\n",
       "    }\n",
       "\n",
       "    .dataframe thead th {\n",
       "        text-align: right;\n",
       "    }\n",
       "</style>\n",
       "<table border=\"1\" class=\"dataframe\">\n",
       "  <thead>\n",
       "    <tr style=\"text-align: right;\">\n",
       "      <th></th>\n",
       "      <th>sigma</th>\n",
       "      <th>s_plus</th>\n",
       "      <th>s_minus</th>\n",
       "      <th>Page</th>\n",
       "      <th>BzOH_pKa</th>\n",
       "      <th>PhOH_pKa</th>\n",
       "      <th>Aniline pKa</th>\n",
       "      <th>DMA_pKa</th>\n",
       "      <th>Pyridine_pKa</th>\n",
       "    </tr>\n",
       "    <tr>\n",
       "      <th>Substituent</th>\n",
       "      <th></th>\n",
       "      <th></th>\n",
       "      <th></th>\n",
       "      <th></th>\n",
       "      <th></th>\n",
       "      <th></th>\n",
       "      <th></th>\n",
       "      <th></th>\n",
       "      <th></th>\n",
       "    </tr>\n",
       "  </thead>\n",
       "  <tbody>\n",
       "    <tr>\n",
       "      <th>m-Br</th>\n",
       "      <td>0.39</td>\n",
       "      <td>0.39</td>\n",
       "      <td>0.39</td>\n",
       "      <td>259.0</td>\n",
       "      <td>3.81</td>\n",
       "      <td>9.11</td>\n",
       "      <td>3.51</td>\n",
       "      <td>3.08</td>\n",
       "      <td>2.84</td>\n",
       "    </tr>\n",
       "    <tr>\n",
       "      <th>p-Br</th>\n",
       "      <td>0.23</td>\n",
       "      <td>0.15</td>\n",
       "      <td>0.25</td>\n",
       "      <td>259.0</td>\n",
       "      <td>4.00</td>\n",
       "      <td>9.34</td>\n",
       "      <td>3.91</td>\n",
       "      <td>3.52</td>\n",
       "      <td>NaN</td>\n",
       "    </tr>\n",
       "    <tr>\n",
       "      <th>m-C6H5</th>\n",
       "      <td>0.06</td>\n",
       "      <td>0.06</td>\n",
       "      <td>0.06</td>\n",
       "      <td>278.0</td>\n",
       "      <td>NaN</td>\n",
       "      <td>9.59</td>\n",
       "      <td>4.18</td>\n",
       "      <td>NaN</td>\n",
       "      <td>NaN</td>\n",
       "    </tr>\n",
       "    <tr>\n",
       "      <th>p-C6H5</th>\n",
       "      <td>-0.01</td>\n",
       "      <td>0.02</td>\n",
       "      <td>-0.18</td>\n",
       "      <td>278.0</td>\n",
       "      <td>NaN</td>\n",
       "      <td>9.51</td>\n",
       "      <td>4.27</td>\n",
       "      <td>NaN</td>\n",
       "      <td>NaN</td>\n",
       "    </tr>\n",
       "    <tr>\n",
       "      <th>m-CCCH3</th>\n",
       "      <td>0.10</td>\n",
       "      <td>0.10</td>\n",
       "      <td>0.10</td>\n",
       "      <td>265.0</td>\n",
       "      <td>NaN</td>\n",
       "      <td>NaN</td>\n",
       "      <td>NaN</td>\n",
       "      <td>NaN</td>\n",
       "      <td>NaN</td>\n",
       "    </tr>\n",
       "  </tbody>\n",
       "</table>\n",
       "</div>"
      ],
      "text/plain": [
       "             sigma  s_plus  s_minus   Page  BzOH_pKa  PhOH_pKa  Aniline pKa  \\\n",
       "Substituent                                                                   \n",
       "m-Br          0.39    0.39     0.39  259.0      3.81      9.11         3.51   \n",
       "p-Br          0.23    0.15     0.25  259.0      4.00      9.34         3.91   \n",
       "m-C6H5        0.06    0.06     0.06  278.0       NaN      9.59         4.18   \n",
       "p-C6H5       -0.01    0.02    -0.18  278.0       NaN      9.51         4.27   \n",
       "m-CCCH3       0.10    0.10     0.10  265.0       NaN       NaN          NaN   \n",
       "\n",
       "             DMA_pKa  Pyridine_pKa  \n",
       "Substituent                         \n",
       "m-Br            3.08          2.84  \n",
       "p-Br            3.52           NaN  \n",
       "m-C6H5           NaN           NaN  \n",
       "p-C6H5           NaN           NaN  \n",
       "m-CCCH3          NaN           NaN  "
      ]
     },
     "metadata": {},
     "output_type": "display_data"
    },
    {
     "data": {
      "image/png": "[encoded data removed]",
      "text/plain": [
       "<Figure size 432x288 with 1 Axes>"
      ]
     },
     "metadata": {
      "needs_background": "light"
     },
     "output_type": "display_data"
    }
   ],
   "source": [
    "df3 = df1.join(df2)\n",
    "display(df3.head())       # displays first 5 rows of the data frame\n",
    "\n",
    "x = df3[\"sigma\"]\n",
    "y = -df3[\"BzOH_pKa\"]\n",
    "\n",
    "plt.plot(x, y, \"ko\")\n",
    "\n",
    "plt.title(\"Hammett Plot\")               \n",
    "plt.xlabel(r\"$\\sigma$\")               \n",
    "plt.ylabel(r\"$\\log(K_a)$\")         \n",
    "\n",
    "plt.show()\n",
    "\n"
   ]
  },
  {
   "cell_type": "markdown",
   "id": "ef95830c",
   "metadata": {},
   "source": [
    "## Cleaning the Data\n",
    "One thing you will see in the data is \"**NaN**\".  This is \"**Not a Number**\" and is a Python concept for \"**nothing**\". It is **not zero**. We know what zero is but nothing is **unknowable**. So \"NaN\" values might cause problems for our analyses. They represent blank spaces in our data and should be **removed**. We will pare down our data to just the columns we need, and then delete all rows that contain \"NaN\". MatPlotLib ignored \"NaN\" values, but SciPy.stats will not. It will give **nonsense** answers to line fits that include \"NaN\" as data.\n",
    "\n",
    "We could use the `pandas.dataframe.drop()` method to drop (delete) unneeded data series (columns). See the [documentation](https://pandas.pydata.org/docs/reference/api/pandas.DataFrame.drop.html) for more information. \n",
    "\n",
    "But we will just select a list of columns to include in the new dataframe.\n",
    "\n",
    "We will use the `pandas.dataframe.dropna()` method to drop rows that contain \"NaN\". See the [documentation](https://pandas.pydata.org/docs/reference/api/pandas.DataFrame.dropna.html#pandas.DataFrame.dropna)."
   ]
  },
  {
   "cell_type": "code",
   "execution_count": 11,
   "id": "76b837b4",
   "metadata": {},
   "outputs": [
    {
     "data": {
      "text/html": [
       "<div>\n",
       "<style scoped>\n",
       "    .dataframe tbody tr th:only-of-type {\n",
       "        vertical-align: middle;\n",
       "    }\n",
       "\n",
       "    .dataframe tbody tr th {\n",
       "        vertical-align: top;\n",
       "    }\n",
       "\n",
       "    .dataframe thead th {\n",
       "        text-align: right;\n",
       "    }\n",
       "</style>\n",
       "<table border=\"1\" class=\"dataframe\">\n",
       "  <thead>\n",
       "    <tr style=\"text-align: right;\">\n",
       "      <th></th>\n",
       "      <th>sigma</th>\n",
       "      <th>BzOH_pKa</th>\n",
       "    </tr>\n",
       "    <tr>\n",
       "      <th>Substituent</th>\n",
       "      <th></th>\n",
       "      <th></th>\n",
       "    </tr>\n",
       "  </thead>\n",
       "  <tbody>\n",
       "    <tr>\n",
       "      <th>m-Br</th>\n",
       "      <td>0.39</td>\n",
       "      <td>3.81</td>\n",
       "    </tr>\n",
       "    <tr>\n",
       "      <th>p-Br</th>\n",
       "      <td>0.23</td>\n",
       "      <td>4.00</td>\n",
       "    </tr>\n",
       "    <tr>\n",
       "      <th>m-C6H5</th>\n",
       "      <td>0.06</td>\n",
       "      <td>NaN</td>\n",
       "    </tr>\n",
       "    <tr>\n",
       "      <th>p-C6H5</th>\n",
       "      <td>-0.01</td>\n",
       "      <td>NaN</td>\n",
       "    </tr>\n",
       "    <tr>\n",
       "      <th>m-CCCH3</th>\n",
       "      <td>0.10</td>\n",
       "      <td>NaN</td>\n",
       "    </tr>\n",
       "  </tbody>\n",
       "</table>\n",
       "</div>"
      ],
      "text/plain": [
       "             sigma  BzOH_pKa\n",
       "Substituent                 \n",
       "m-Br          0.39      3.81\n",
       "p-Br          0.23      4.00\n",
       "m-C6H5        0.06       NaN\n",
       "p-C6H5       -0.01       NaN\n",
       "m-CCCH3       0.10       NaN"
      ]
     },
     "metadata": {},
     "output_type": "display_data"
    },
    {
     "data": {
      "text/html": [
       "<div>\n",
       "<style scoped>\n",
       "    .dataframe tbody tr th:only-of-type {\n",
       "        vertical-align: middle;\n",
       "    }\n",
       "\n",
       "    .dataframe tbody tr th {\n",
       "        vertical-align: top;\n",
       "    }\n",
       "\n",
       "    .dataframe thead th {\n",
       "        text-align: right;\n",
       "    }\n",
       "</style>\n",
       "<table border=\"1\" class=\"dataframe\">\n",
       "  <thead>\n",
       "    <tr style=\"text-align: right;\">\n",
       "      <th></th>\n",
       "      <th>sigma</th>\n",
       "      <th>BzOH_pKa</th>\n",
       "    </tr>\n",
       "    <tr>\n",
       "      <th>Substituent</th>\n",
       "      <th></th>\n",
       "      <th></th>\n",
       "    </tr>\n",
       "  </thead>\n",
       "  <tbody>\n",
       "    <tr>\n",
       "      <th>m-Br</th>\n",
       "      <td>0.39</td>\n",
       "      <td>3.81</td>\n",
       "    </tr>\n",
       "    <tr>\n",
       "      <th>p-Br</th>\n",
       "      <td>0.23</td>\n",
       "      <td>4.00</td>\n",
       "    </tr>\n",
       "    <tr>\n",
       "      <th>m-CF3</th>\n",
       "      <td>0.46</td>\n",
       "      <td>3.79</td>\n",
       "    </tr>\n",
       "    <tr>\n",
       "      <th>m-CH3</th>\n",
       "      <td>-0.06</td>\n",
       "      <td>4.24</td>\n",
       "    </tr>\n",
       "    <tr>\n",
       "      <th>p-CH3</th>\n",
       "      <td>-0.14</td>\n",
       "      <td>4.34</td>\n",
       "    </tr>\n",
       "  </tbody>\n",
       "</table>\n",
       "</div>"
      ],
      "text/plain": [
       "             sigma  BzOH_pKa\n",
       "Substituent                 \n",
       "m-Br          0.39      3.81\n",
       "p-Br          0.23      4.00\n",
       "m-CF3         0.46      3.79\n",
       "m-CH3        -0.06      4.24\n",
       "p-CH3        -0.14      4.34"
      ]
     },
     "metadata": {},
     "output_type": "display_data"
    }
   ],
   "source": [
    "data = df3[[\"sigma\", \"BzOH_pKa\"]]\n",
    "display(data.head())\n",
    "\n",
    "data = data.dropna()\n",
    "display(data.head())"
   ]
  },
  {
   "cell_type": "markdown",
   "id": "ee5822e6",
   "metadata": {},
   "source": [
    "# Analyze the Data\n",
    "We now have a data set that contains a merged set of Hammett $\\sigma$ values and reported $pK_a$ values for corresponding benzoic acids. We obtained this be **joining** two data sets toghether and **deleting** unneeded columns and any rows that were missing data (\"NaN\").\n",
    "\n",
    "Now we can **plot** the data and perform a linear regression to get the slope ($\\rho$ value). The **slope** should be near 1.0 and all the points should follow the **line** closely. How does it look?"
   ]
  },
  {
   "cell_type": "code",
   "execution_count": 12,
   "id": "f1fb3c81",
   "metadata": {},
   "outputs": [
    {
     "name": "stdout",
     "output_type": "stream",
     "text": [
      "The slope is 1.03 +/- 0.08\n",
      "The intercept is -4.23 +/- 0.03\n"
     ]
    },
    {
     "data": {
      "image/png": "[encoded data removed]",
      "text/plain": [
       "<Figure size 432x288 with 1 Axes>"
      ]
     },
     "metadata": {
      "needs_background": "light"
     },
     "output_type": "display_data"
    }
   ],
   "source": [
    "x = data[\"sigma\"]\n",
    "y = -data[\"BzOH_pKa\"]\n",
    "\n",
    "line = stats.linregress(x,y)\n",
    "print(\"The slope is {:.2f} +/- {:.2f}\".format(line.slope, 2*line.stderr))\n",
    "print(\"The intercept is {:.2f} +/- {:.2f}\".format(line.intercept, 2*line.intercept_stderr))\n",
    "\n",
    "plt.plot(x, y, \"ko\")\n",
    "\n",
    "y_list = line.slope*x+line.intercept\n",
    "plt.plot(x, y_list, \"k-\")\n",
    "\n",
    "plt.title(\"Hammett Plot\")                \n",
    "plt.xlabel(r\"$\\sigma$\")                \n",
    "plt.ylabel(r\"$\\log(K_a)$\")          \n",
    "\n",
    "plt.show()"
   ]
  },
  {
   "cell_type": "markdown",
   "id": "44827ef1",
   "metadata": {},
   "source": [
    "## Conclusions\n",
    "The slope was very close to 1.0 and the imtercept was very close to the $-pK_a$ for plain benzoic acid, as expected. there was one point that was \"off\". If we remove it the line fit will be even closer to our expectations.  Why is this point so far off the line? Go find out by examining the original source and then the data that was referenced by that source. The truth is out there."
   ]
  },
  {
   "cell_type": "markdown",
   "id": "df8fe738",
   "metadata": {},
   "source": [
    "## More Explorations\n",
    "I looked at that **outlier** and saw that it is due to the $m\\text{-NH}_2$ substituent. This needs **investigation**. Find out where the error is. Go!\n",
    "\n",
    "In the meantime, I will delete the data for the $\\text{-NH}_2$ substituent.  To be fair, I will **delete** the rows for both the $m\\text{-NH}_2$ and the $p\\text{-NH}_2$ cases.  Then we will **plot** the data set again and see what we get. Is the fit closer to 1.0? We still need to find out what is going on with the outlier. is it a **typo** or is it a **literature error**? Now is the time to **assign blame**."
   ]
  },
  {
   "cell_type": "code",
   "execution_count": 13,
   "id": "c086b924",
   "metadata": {
    "scrolled": true
   },
   "outputs": [
    {
     "name": "stdout",
     "output_type": "stream",
     "text": [
      "The slope is 0.98 +/- 0.03\n",
      "The intercept is -4.21 +/- 0.01\n"
     ]
    },
    {
     "data": {
      "image/png": "[encoded data removed]",
      "text/plain": [
       "<Figure size 432x288 with 1 Axes>"
      ]
     },
     "metadata": {
      "needs_background": "light"
     },
     "output_type": "display_data"
    }
   ],
   "source": [
    "data = data.drop([\"m-NH2\", \"p-NH2\"], axis = 0, errors='ignore')\n",
    "\n",
    "x = data[\"sigma\"]\n",
    "y = -data[\"BzOH_pKa\"]\n",
    "\n",
    "line = stats.linregress(x,y)\n",
    "print(\"The slope is {:.2f} +/- {:.2f}\".format(line.slope, 2*line.stderr))\n",
    "print(\"The intercept is {:.2f} +/- {:.2f}\".format(line.intercept, 2*line.intercept_stderr))\n",
    "\n",
    "plt.plot(x, y, \"ko\")\n",
    "\n",
    "y_list = line.slope*x+line.intercept\n",
    "plt.plot(x, y_list, \"k-\")\n",
    "\n",
    "plt.title(\"Hammett Plot\")             \n",
    "plt.xlabel(r\"$\\sigma$\")             \n",
    "plt.ylabel(r\"$\\log(K_a)$\")        \n",
    "\n",
    "plt.show()"
   ]
  }
 ],
 "metadata": {
  "kernelspec": {
   "display_name": "Python 3 (ipykernel)",
   "language": "python",
   "name": "python3"
  },
  "language_info": {
   "codemirror_mode": {
    "name": "ipython",
    "version": 3
   },
   "file_extension": ".py",
   "mimetype": "text/x-python",
   "name": "python",
   "nbconvert_exporter": "python",
   "pygments_lexer": "ipython3",
   "version": "3.9.7"
  }
 },
 "nbformat": 4,
 "nbformat_minor": 5
}
